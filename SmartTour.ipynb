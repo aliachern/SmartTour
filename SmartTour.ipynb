{
 "cells": [
  {
   "cell_type": "code",
   "execution_count": null,
   "id": "2bf5f695-76aa-4d4b-9b9a-83b7764fe147",
   "metadata": {},
   "outputs": [],
   "source": [
    "Import Libraries, Load Data"
   ]
  },
  {
   "cell_type": "code",
   "execution_count": 1,
   "id": "b1f1e02d-faeb-4cb5-8e55-8198ae90bac5",
   "metadata": {},
   "outputs": [],
   "source": [
    "import pandas as pd\n",
    "import numpy as np\n",
    "from sklearn.preprocessing import LabelEncoder\n",
    "from sklearn.metrics.pairwise import cosine_similarity\n",
    "from sklearn.feature_extraction.text import TfidfVectorizer\n",
    "import matplotlib.pyplot as plt\n",
    "import seaborn as sns\n",
    "\n",
    "# Load datasets\n",
    "destinations_df = pd.read_excel(\"/Users/aliachern/Documents/FYP/Destinations.xlsx\")\n",
    "reviews_df = pd.read_excel(\"/Users/aliachern/Documents/FYP/User_Reviews.xlsx\")\n",
    "userhistory_df = pd.read_excel(\"/Users/aliachern/Documents/FYP/User_History.xlsx\")\n",
    "users_df = pd.read_excel(\"/Users/aliachern/Documents/FYP/Users.xlsx\")"
   ]
  },
  {
   "cell_type": "code",
   "execution_count": 59,
   "id": "bfd89578-2124-4a5b-b435-745752ec51c9",
   "metadata": {},
   "outputs": [
    {
     "data": {
      "text/html": [
       "<div>\n",
       "<style scoped>\n",
       "    .dataframe tbody tr th:only-of-type {\n",
       "        vertical-align: middle;\n",
       "    }\n",
       "\n",
       "    .dataframe tbody tr th {\n",
       "        vertical-align: top;\n",
       "    }\n",
       "\n",
       "    .dataframe thead th {\n",
       "        text-align: right;\n",
       "    }\n",
       "</style>\n",
       "<table border=\"1\" class=\"dataframe\">\n",
       "  <thead>\n",
       "    <tr style=\"text-align: right;\">\n",
       "      <th></th>\n",
       "      <th>destination_id</th>\n",
       "      <th>name</th>\n",
       "      <th>state</th>\n",
       "      <th>category</th>\n",
       "      <th>description</th>\n",
       "      <th>avg_rating</th>\n",
       "    </tr>\n",
       "  </thead>\n",
       "  <tbody>\n",
       "    <tr>\n",
       "      <th>0</th>\n",
       "      <td>1</td>\n",
       "      <td>Petronas Twin Towers</td>\n",
       "      <td>Kuala Lumpur</td>\n",
       "      <td>city</td>\n",
       "      <td>Iconic twin skyscrapers with a skybridge and o...</td>\n",
       "      <td>4.7</td>\n",
       "    </tr>\n",
       "    <tr>\n",
       "      <th>1</th>\n",
       "      <td>2</td>\n",
       "      <td>Batu Caves</td>\n",
       "      <td>Kuala Lumpur</td>\n",
       "      <td>city</td>\n",
       "      <td>Limestone hill with Hindu temple and large sta...</td>\n",
       "      <td>4.6</td>\n",
       "    </tr>\n",
       "    <tr>\n",
       "      <th>2</th>\n",
       "      <td>3</td>\n",
       "      <td>KL Tower</td>\n",
       "      <td>Kuala Lumpur</td>\n",
       "      <td>city</td>\n",
       "      <td>Tall tower offering panoramic views of Kuala L...</td>\n",
       "      <td>4.5</td>\n",
       "    </tr>\n",
       "    <tr>\n",
       "      <th>3</th>\n",
       "      <td>4</td>\n",
       "      <td>Merdeka Square</td>\n",
       "      <td>Kuala Lumpur</td>\n",
       "      <td>historical</td>\n",
       "      <td>Historic square commemorating Malaysian indepe...</td>\n",
       "      <td>4.4</td>\n",
       "    </tr>\n",
       "    <tr>\n",
       "      <th>4</th>\n",
       "      <td>5</td>\n",
       "      <td>Sultan Abdul Samad Building</td>\n",
       "      <td>Kuala Lumpur</td>\n",
       "      <td>historical</td>\n",
       "      <td>Colonial-era government building with Moorish ...</td>\n",
       "      <td>4.3</td>\n",
       "    </tr>\n",
       "  </tbody>\n",
       "</table>\n",
       "</div>"
      ],
      "text/plain": [
       "  destination_id                         name         state    category  \\\n",
       "0              1         Petronas Twin Towers  Kuala Lumpur        city   \n",
       "1              2                   Batu Caves  Kuala Lumpur        city   \n",
       "2              3                     KL Tower  Kuala Lumpur        city   \n",
       "3              4               Merdeka Square  Kuala Lumpur  historical   \n",
       "4              5  Sultan Abdul Samad Building  Kuala Lumpur  historical   \n",
       "\n",
       "                                         description  avg_rating  \n",
       "0  Iconic twin skyscrapers with a skybridge and o...         4.7  \n",
       "1  Limestone hill with Hindu temple and large sta...         4.6  \n",
       "2  Tall tower offering panoramic views of Kuala L...         4.5  \n",
       "3  Historic square commemorating Malaysian indepe...         4.4  \n",
       "4  Colonial-era government building with Moorish ...         4.3  "
      ]
     },
     "execution_count": 59,
     "metadata": {},
     "output_type": "execute_result"
    }
   ],
   "source": [
    "destinations_df.head()"
   ]
  },
  {
   "cell_type": "code",
   "execution_count": 61,
   "id": "6f38bd56-bdf9-4103-a726-2b427c86ab61",
   "metadata": {},
   "outputs": [
    {
     "data": {
      "text/html": [
       "<div>\n",
       "<style scoped>\n",
       "    .dataframe tbody tr th:only-of-type {\n",
       "        vertical-align: middle;\n",
       "    }\n",
       "\n",
       "    .dataframe tbody tr th {\n",
       "        vertical-align: top;\n",
       "    }\n",
       "\n",
       "    .dataframe thead th {\n",
       "        text-align: right;\n",
       "    }\n",
       "</style>\n",
       "<table border=\"1\" class=\"dataframe\">\n",
       "  <thead>\n",
       "    <tr style=\"text-align: right;\">\n",
       "      <th></th>\n",
       "      <th>review_id</th>\n",
       "      <th>destination_id</th>\n",
       "      <th>user_id</th>\n",
       "      <th>ratings</th>\n",
       "      <th>review_comments</th>\n",
       "    </tr>\n",
       "  </thead>\n",
       "  <tbody>\n",
       "    <tr>\n",
       "      <th>0</th>\n",
       "      <td>R0001</td>\n",
       "      <td>295</td>\n",
       "      <td>U0056</td>\n",
       "      <td>4</td>\n",
       "      <td>Music half general still doctor talk well pass...</td>\n",
       "    </tr>\n",
       "    <tr>\n",
       "      <th>1</th>\n",
       "      <td>R0002</td>\n",
       "      <td>242</td>\n",
       "      <td>U0024</td>\n",
       "      <td>4</td>\n",
       "      <td>Vote television site population staff letter i...</td>\n",
       "    </tr>\n",
       "    <tr>\n",
       "      <th>2</th>\n",
       "      <td>R0003</td>\n",
       "      <td>354</td>\n",
       "      <td>U0060</td>\n",
       "      <td>4</td>\n",
       "      <td>Future manage commercial face person surface c...</td>\n",
       "    </tr>\n",
       "    <tr>\n",
       "      <th>3</th>\n",
       "      <td>R0004</td>\n",
       "      <td>282</td>\n",
       "      <td>U0010</td>\n",
       "      <td>1</td>\n",
       "      <td>Whether artist establish daughter decide reduc...</td>\n",
       "    </tr>\n",
       "    <tr>\n",
       "      <th>4</th>\n",
       "      <td>R0005</td>\n",
       "      <td>387</td>\n",
       "      <td>U0060</td>\n",
       "      <td>2</td>\n",
       "      <td>Risk significant follow executive once among u...</td>\n",
       "    </tr>\n",
       "  </tbody>\n",
       "</table>\n",
       "</div>"
      ],
      "text/plain": [
       "  review_id destination_id user_id  ratings  \\\n",
       "0     R0001            295   U0056        4   \n",
       "1     R0002            242   U0024        4   \n",
       "2     R0003            354   U0060        4   \n",
       "3     R0004            282   U0010        1   \n",
       "4     R0005            387   U0060        2   \n",
       "\n",
       "                                     review_comments  \n",
       "0  Music half general still doctor talk well pass...  \n",
       "1  Vote television site population staff letter i...  \n",
       "2  Future manage commercial face person surface c...  \n",
       "3  Whether artist establish daughter decide reduc...  \n",
       "4  Risk significant follow executive once among u...  "
      ]
     },
     "execution_count": 61,
     "metadata": {},
     "output_type": "execute_result"
    }
   ],
   "source": [
    "reviews_df.head()"
   ]
  },
  {
   "cell_type": "code",
   "execution_count": 63,
   "id": "2470a5d8-b1b2-4837-85a9-1d2488d855d2",
   "metadata": {},
   "outputs": [
    {
     "data": {
      "text/html": [
       "<div>\n",
       "<style scoped>\n",
       "    .dataframe tbody tr th:only-of-type {\n",
       "        vertical-align: middle;\n",
       "    }\n",
       "\n",
       "    .dataframe tbody tr th {\n",
       "        vertical-align: top;\n",
       "    }\n",
       "\n",
       "    .dataframe thead th {\n",
       "        text-align: right;\n",
       "    }\n",
       "</style>\n",
       "<table border=\"1\" class=\"dataframe\">\n",
       "  <thead>\n",
       "    <tr style=\"text-align: right;\">\n",
       "      <th></th>\n",
       "      <th>history_id</th>\n",
       "      <th>user_id</th>\n",
       "      <th>destination_id</th>\n",
       "      <th>visit_date</th>\n",
       "      <th>experience_ratings</th>\n",
       "    </tr>\n",
       "  </thead>\n",
       "  <tbody>\n",
       "    <tr>\n",
       "      <th>0</th>\n",
       "      <td>H0001</td>\n",
       "      <td>U0056</td>\n",
       "      <td>91</td>\n",
       "      <td>2024-06-28</td>\n",
       "      <td>5</td>\n",
       "    </tr>\n",
       "    <tr>\n",
       "      <th>1</th>\n",
       "      <td>H0002</td>\n",
       "      <td>U0022</td>\n",
       "      <td>106</td>\n",
       "      <td>2024-10-26</td>\n",
       "      <td>2</td>\n",
       "    </tr>\n",
       "    <tr>\n",
       "      <th>2</th>\n",
       "      <td>H0003</td>\n",
       "      <td>U0015</td>\n",
       "      <td>233</td>\n",
       "      <td>2025-01-22</td>\n",
       "      <td>5</td>\n",
       "    </tr>\n",
       "    <tr>\n",
       "      <th>3</th>\n",
       "      <td>H0004</td>\n",
       "      <td>U0010</td>\n",
       "      <td>210</td>\n",
       "      <td>2024-04-16</td>\n",
       "      <td>3</td>\n",
       "    </tr>\n",
       "    <tr>\n",
       "      <th>4</th>\n",
       "      <td>H0005</td>\n",
       "      <td>U0041</td>\n",
       "      <td>96</td>\n",
       "      <td>2024-05-14</td>\n",
       "      <td>4</td>\n",
       "    </tr>\n",
       "  </tbody>\n",
       "</table>\n",
       "</div>"
      ],
      "text/plain": [
       "  history_id user_id destination_id visit_date  experience_ratings\n",
       "0      H0001   U0056             91 2024-06-28                   5\n",
       "1      H0002   U0022            106 2024-10-26                   2\n",
       "2      H0003   U0015            233 2025-01-22                   5\n",
       "3      H0004   U0010            210 2024-04-16                   3\n",
       "4      H0005   U0041             96 2024-05-14                   4"
      ]
     },
     "execution_count": 63,
     "metadata": {},
     "output_type": "execute_result"
    }
   ],
   "source": [
    "userhistory_df.head()"
   ]
  },
  {
   "cell_type": "code",
   "execution_count": 65,
   "id": "36eb49a6-efcc-4cfe-ad47-28a374e2f0fe",
   "metadata": {},
   "outputs": [
    {
     "data": {
      "text/html": [
       "<div>\n",
       "<style scoped>\n",
       "    .dataframe tbody tr th:only-of-type {\n",
       "        vertical-align: middle;\n",
       "    }\n",
       "\n",
       "    .dataframe tbody tr th {\n",
       "        vertical-align: top;\n",
       "    }\n",
       "\n",
       "    .dataframe thead th {\n",
       "        text-align: right;\n",
       "    }\n",
       "</style>\n",
       "<table border=\"1\" class=\"dataframe\">\n",
       "  <thead>\n",
       "    <tr style=\"text-align: right;\">\n",
       "      <th></th>\n",
       "      <th>user_id</th>\n",
       "      <th>name</th>\n",
       "      <th>email</th>\n",
       "      <th>category_preferences</th>\n",
       "      <th>state_chosen</th>\n",
       "      <th>number_of_pax</th>\n",
       "    </tr>\n",
       "  </thead>\n",
       "  <tbody>\n",
       "    <tr>\n",
       "      <th>0</th>\n",
       "      <td>U0001</td>\n",
       "      <td>Jennifer Briggs</td>\n",
       "      <td>davidcox@hotmail.com</td>\n",
       "      <td>nature</td>\n",
       "      <td>Perlis</td>\n",
       "      <td>4</td>\n",
       "    </tr>\n",
       "    <tr>\n",
       "      <th>1</th>\n",
       "      <td>U0002</td>\n",
       "      <td>Sarah Hernandez</td>\n",
       "      <td>lmora@coleman.com</td>\n",
       "      <td>beach</td>\n",
       "      <td>Selangor</td>\n",
       "      <td>4</td>\n",
       "    </tr>\n",
       "    <tr>\n",
       "      <th>2</th>\n",
       "      <td>U0003</td>\n",
       "      <td>Jeanne Jones</td>\n",
       "      <td>hensleyjames@hotmail.com</td>\n",
       "      <td>beach</td>\n",
       "      <td>Penang</td>\n",
       "      <td>5</td>\n",
       "    </tr>\n",
       "    <tr>\n",
       "      <th>3</th>\n",
       "      <td>U0004</td>\n",
       "      <td>Jenna Bates</td>\n",
       "      <td>jacqueline28@rodriguez.com</td>\n",
       "      <td>beach</td>\n",
       "      <td>Kelantan</td>\n",
       "      <td>5</td>\n",
       "    </tr>\n",
       "    <tr>\n",
       "      <th>4</th>\n",
       "      <td>U0005</td>\n",
       "      <td>Logan Chen</td>\n",
       "      <td>mandymoore@hotmail.com</td>\n",
       "      <td>adventure</td>\n",
       "      <td>Negeri Sembilan</td>\n",
       "      <td>3</td>\n",
       "    </tr>\n",
       "  </tbody>\n",
       "</table>\n",
       "</div>"
      ],
      "text/plain": [
       "  user_id             name                       email category_preferences  \\\n",
       "0   U0001  Jennifer Briggs        davidcox@hotmail.com               nature   \n",
       "1   U0002  Sarah Hernandez           lmora@coleman.com                beach   \n",
       "2   U0003     Jeanne Jones    hensleyjames@hotmail.com                beach   \n",
       "3   U0004      Jenna Bates  jacqueline28@rodriguez.com                beach   \n",
       "4   U0005       Logan Chen      mandymoore@hotmail.com            adventure   \n",
       "\n",
       "      state_chosen  number_of_pax  \n",
       "0           Perlis              4  \n",
       "1         Selangor              4  \n",
       "2           Penang              5  \n",
       "3         Kelantan              5  \n",
       "4  Negeri Sembilan              3  "
      ]
     },
     "execution_count": 65,
     "metadata": {},
     "output_type": "execute_result"
    }
   ],
   "source": [
    "users_df.head()"
   ]
  },
  {
   "cell_type": "code",
   "execution_count": 9,
   "id": "9c4a9e15-f31e-4a11-a78e-8a77369a9cc1",
   "metadata": {},
   "outputs": [],
   "source": [
    "# Normalize column names for merging\n",
    "reviews_df.rename(columns={\"destination ID\": \"destination_id\", \"User ID\": \"user_id\"}, inplace=True)\n",
    "userhistory_df.rename(columns={\"destination ID\": \"destination_id\", \"user ID\": \"user_id\"}, inplace=True)\n",
    "users_df.rename(columns={\"user ID\": \"user_id\"}, inplace=True)"
   ]
  },
  {
   "cell_type": "code",
   "execution_count": 13,
   "id": "fa12c239-dc09-498d-9ffb-3a798d567503",
   "metadata": {},
   "outputs": [
    {
     "name": "stdout",
     "output_type": "stream",
     "text": [
      "Reviews destination IDs: [295 242 354 282 387]\n",
      "Destinations IDs: [1 2 3 4 5]\n",
      "Reviews user IDs: ['U0056' 'U0024' 'U0060' 'U0010' 'U0008']\n",
      "User history user IDs: ['U0056' 'U0022' 'U0015' 'U0010' 'U0041']\n",
      "Users user IDs: ['U0001' 'U0002' 'U0003' 'U0004' 'U0005']\n"
     ]
    }
   ],
   "source": [
    "print(\"Reviews destination IDs:\", reviews_df['destination_id'].unique()[:5])\n",
    "print(\"Destinations IDs:\", destinations_df['destination_id'].unique()[:5])\n",
    "\n",
    "print(\"Reviews user IDs:\", reviews_df['user_id'].unique()[:5])\n",
    "print(\"User history user IDs:\", userhistory_df['user_id'].unique()[:5])\n",
    "print(\"Users user IDs:\", users_df['user_id'].unique()[:5])\n"
   ]
  },
  {
   "cell_type": "code",
   "execution_count": 15,
   "id": "0d22ca4f-80a7-409b-9fe2-a159f08db554",
   "metadata": {},
   "outputs": [],
   "source": [
    "# Ensure all IDs are strings\n",
    "reviews_df['destination_id'] = reviews_df['destination_id'].astype(str)\n",
    "reviews_df['user_id'] = reviews_df['user_id'].astype(str)\n",
    "destinations_df['destination_id'] = destinations_df['destination_id'].astype(str)\n",
    "userhistory_df['destination_id'] = userhistory_df['destination_id'].astype(str)\n",
    "userhistory_df['user_id'] = userhistory_df['user_id'].astype(str)\n",
    "users_df['user_id'] = users_df['user_id'].astype(str)"
   ]
  },
  {
   "cell_type": "code",
   "execution_count": 17,
   "id": "61eb6566-c7f2-4396-8f36-cb95fe54503d",
   "metadata": {},
   "outputs": [
    {
     "name": "stdout",
     "output_type": "stream",
     "text": [
      "Matching destination IDs: 91\n",
      "Matching user IDs: 43\n",
      "Matching destination IDs (history vs reviews): 14\n",
      "Matching users in final merge: 58\n"
     ]
    }
   ],
   "source": [
    "# Step 1: Check overlap between reviews and destinations\n",
    "print(\"Matching destination IDs:\", len(set(reviews_df['destination_id']) & set(destinations_df['destination_id'])))\n",
    "\n",
    "# Step 2: Check overlap between result and user history\n",
    "print(\"Matching user IDs:\", len(set(reviews_df['user_id']) & set(userhistory_df['user_id'])))\n",
    "print(\"Matching destination IDs (history vs reviews):\", len(set(userhistory_df['destination_id']) & set(reviews_df['destination_id'])))\n",
    "\n",
    "# Step 3: Check overlap with users\n",
    "print(\"Matching users in final merge:\", len(set(userhistory_df['user_id']) & set(users_df['user_id'])))"
   ]
  },
  {
   "cell_type": "code",
   "execution_count": 19,
   "id": "01ab423e-ec87-41cf-8669-6dc9003045a0",
   "metadata": {},
   "outputs": [
    {
     "name": "stdout",
     "output_type": "stream",
     "text": [
      "_merge\n",
      "right_only    384\n",
      "both          100\n",
      "left_only       0\n",
      "Name: count, dtype: int64\n"
     ]
    }
   ],
   "source": [
    "merged_test = pd.merge(reviews_df, destinations_df, on='destination_id', how='outer', indicator=True)\n",
    "print(merged_test['_merge'].value_counts())"
   ]
  },
  {
   "cell_type": "code",
   "execution_count": 21,
   "id": "e2644ffe-3def-4455-b7d0-ec4e72318e50",
   "metadata": {},
   "outputs": [
    {
     "name": "stdout",
     "output_type": "stream",
     "text": [
      "Merged DataFrame shape: (104, 19)\n"
     ]
    },
    {
     "data": {
      "text/html": [
       "<div>\n",
       "<style scoped>\n",
       "    .dataframe tbody tr th:only-of-type {\n",
       "        vertical-align: middle;\n",
       "    }\n",
       "\n",
       "    .dataframe tbody tr th {\n",
       "        vertical-align: top;\n",
       "    }\n",
       "\n",
       "    .dataframe thead th {\n",
       "        text-align: right;\n",
       "    }\n",
       "</style>\n",
       "<table border=\"1\" class=\"dataframe\">\n",
       "  <thead>\n",
       "    <tr style=\"text-align: right;\">\n",
       "      <th></th>\n",
       "      <th>review_id</th>\n",
       "      <th>destination_id_x</th>\n",
       "      <th>user_id</th>\n",
       "      <th>ratings</th>\n",
       "      <th>review_comments</th>\n",
       "      <th>name_x</th>\n",
       "      <th>state</th>\n",
       "      <th>category</th>\n",
       "      <th>description</th>\n",
       "      <th>avg_rating</th>\n",
       "      <th>history_id</th>\n",
       "      <th>destination_id_y</th>\n",
       "      <th>visit_date</th>\n",
       "      <th>experience_ratings</th>\n",
       "      <th>name_y</th>\n",
       "      <th>email</th>\n",
       "      <th>category_preferences</th>\n",
       "      <th>state_chosen</th>\n",
       "      <th>number_of_pax</th>\n",
       "    </tr>\n",
       "  </thead>\n",
       "  <tbody>\n",
       "    <tr>\n",
       "      <th>0</th>\n",
       "      <td>R0001</td>\n",
       "      <td>295</td>\n",
       "      <td>U0056</td>\n",
       "      <td>4</td>\n",
       "      <td>Music half general still doctor talk well pass...</td>\n",
       "      <td>Pantai Melawi</td>\n",
       "      <td>Kelantan</td>\n",
       "      <td>beach</td>\n",
       "      <td>Traditional fishing beach with colorful boats.</td>\n",
       "      <td>3.8</td>\n",
       "      <td>H0001</td>\n",
       "      <td>91</td>\n",
       "      <td>2024-06-28</td>\n",
       "      <td>5</td>\n",
       "      <td>Valerie Wells</td>\n",
       "      <td>ramirezjeffrey@kelley-smith.info</td>\n",
       "      <td>beach</td>\n",
       "      <td>Johor</td>\n",
       "      <td>5</td>\n",
       "    </tr>\n",
       "    <tr>\n",
       "      <th>1</th>\n",
       "      <td>R0002</td>\n",
       "      <td>242</td>\n",
       "      <td>U0024</td>\n",
       "      <td>4</td>\n",
       "      <td>Vote television site population staff letter i...</td>\n",
       "      <td>D'Suasane Ibai</td>\n",
       "      <td>Terengganu</td>\n",
       "      <td>city</td>\n",
       "      <td>Floating restaurant complex serving local cuis...</td>\n",
       "      <td>4.0</td>\n",
       "      <td>H0011</td>\n",
       "      <td>428</td>\n",
       "      <td>2023-11-21</td>\n",
       "      <td>3</td>\n",
       "      <td>Ronald Cruz</td>\n",
       "      <td>frodgers@hotmail.com</td>\n",
       "      <td>adventure</td>\n",
       "      <td>Negeri Sembilan</td>\n",
       "      <td>1</td>\n",
       "    </tr>\n",
       "    <tr>\n",
       "      <th>2</th>\n",
       "      <td>R0002</td>\n",
       "      <td>242</td>\n",
       "      <td>U0024</td>\n",
       "      <td>4</td>\n",
       "      <td>Vote television site population staff letter i...</td>\n",
       "      <td>D'Suasane Ibai</td>\n",
       "      <td>Terengganu</td>\n",
       "      <td>city</td>\n",
       "      <td>Floating restaurant complex serving local cuis...</td>\n",
       "      <td>4.0</td>\n",
       "      <td>H0018</td>\n",
       "      <td>419</td>\n",
       "      <td>2023-07-24</td>\n",
       "      <td>2</td>\n",
       "      <td>Ronald Cruz</td>\n",
       "      <td>frodgers@hotmail.com</td>\n",
       "      <td>adventure</td>\n",
       "      <td>Negeri Sembilan</td>\n",
       "      <td>1</td>\n",
       "    </tr>\n",
       "    <tr>\n",
       "      <th>3</th>\n",
       "      <td>R0003</td>\n",
       "      <td>354</td>\n",
       "      <td>U0060</td>\n",
       "      <td>4</td>\n",
       "      <td>Future manage commercial face person surface c...</td>\n",
       "      <td>Tunku Abdul Rahman Marine Park</td>\n",
       "      <td>Sabah</td>\n",
       "      <td>nature</td>\n",
       "      <td>Five beautiful islands near KK with excellent ...</td>\n",
       "      <td>4.6</td>\n",
       "      <td>H0033</td>\n",
       "      <td>45</td>\n",
       "      <td>2023-10-23</td>\n",
       "      <td>3</td>\n",
       "      <td>Tracie Mann</td>\n",
       "      <td>johnsonmichele@fox.com</td>\n",
       "      <td>nature</td>\n",
       "      <td>Kuala Lumpur</td>\n",
       "      <td>3</td>\n",
       "    </tr>\n",
       "    <tr>\n",
       "      <th>4</th>\n",
       "      <td>R0003</td>\n",
       "      <td>354</td>\n",
       "      <td>U0060</td>\n",
       "      <td>4</td>\n",
       "      <td>Future manage commercial face person surface c...</td>\n",
       "      <td>Tunku Abdul Rahman Marine Park</td>\n",
       "      <td>Sabah</td>\n",
       "      <td>nature</td>\n",
       "      <td>Five beautiful islands near KK with excellent ...</td>\n",
       "      <td>4.6</td>\n",
       "      <td>H0039</td>\n",
       "      <td>375</td>\n",
       "      <td>2025-05-05</td>\n",
       "      <td>2</td>\n",
       "      <td>Tracie Mann</td>\n",
       "      <td>johnsonmichele@fox.com</td>\n",
       "      <td>nature</td>\n",
       "      <td>Kuala Lumpur</td>\n",
       "      <td>3</td>\n",
       "    </tr>\n",
       "  </tbody>\n",
       "</table>\n",
       "</div>"
      ],
      "text/plain": [
       "  review_id destination_id_x user_id  ratings  \\\n",
       "0     R0001              295   U0056        4   \n",
       "1     R0002              242   U0024        4   \n",
       "2     R0002              242   U0024        4   \n",
       "3     R0003              354   U0060        4   \n",
       "4     R0003              354   U0060        4   \n",
       "\n",
       "                                     review_comments  \\\n",
       "0  Music half general still doctor talk well pass...   \n",
       "1  Vote television site population staff letter i...   \n",
       "2  Vote television site population staff letter i...   \n",
       "3  Future manage commercial face person surface c...   \n",
       "4  Future manage commercial face person surface c...   \n",
       "\n",
       "                           name_x       state category  \\\n",
       "0                   Pantai Melawi    Kelantan    beach   \n",
       "1                  D'Suasane Ibai  Terengganu     city   \n",
       "2                  D'Suasane Ibai  Terengganu     city   \n",
       "3  Tunku Abdul Rahman Marine Park       Sabah   nature   \n",
       "4  Tunku Abdul Rahman Marine Park       Sabah   nature   \n",
       "\n",
       "                                         description  avg_rating history_id  \\\n",
       "0     Traditional fishing beach with colorful boats.         3.8      H0001   \n",
       "1  Floating restaurant complex serving local cuis...         4.0      H0011   \n",
       "2  Floating restaurant complex serving local cuis...         4.0      H0018   \n",
       "3  Five beautiful islands near KK with excellent ...         4.6      H0033   \n",
       "4  Five beautiful islands near KK with excellent ...         4.6      H0039   \n",
       "\n",
       "  destination_id_y visit_date  experience_ratings         name_y  \\\n",
       "0               91 2024-06-28                   5  Valerie Wells   \n",
       "1              428 2023-11-21                   3    Ronald Cruz   \n",
       "2              419 2023-07-24                   2    Ronald Cruz   \n",
       "3               45 2023-10-23                   3    Tracie Mann   \n",
       "4              375 2025-05-05                   2    Tracie Mann   \n",
       "\n",
       "                              email category_preferences     state_chosen  \\\n",
       "0  ramirezjeffrey@kelley-smith.info                beach            Johor   \n",
       "1              frodgers@hotmail.com            adventure  Negeri Sembilan   \n",
       "2              frodgers@hotmail.com            adventure  Negeri Sembilan   \n",
       "3            johnsonmichele@fox.com               nature     Kuala Lumpur   \n",
       "4            johnsonmichele@fox.com               nature     Kuala Lumpur   \n",
       "\n",
       "   number_of_pax  \n",
       "0              5  \n",
       "1              1  \n",
       "2              1  \n",
       "3              3  \n",
       "4              3  "
      ]
     },
     "execution_count": 21,
     "metadata": {},
     "output_type": "execute_result"
    }
   ],
   "source": [
    "# Ensure string types\n",
    "for df in [reviews_df, destinations_df, userhistory_df, users_df]:\n",
    "    df.columns = df.columns.str.strip().str.lower().str.replace(' ', '_')\n",
    "    if 'user_id' in df.columns:\n",
    "        df['user_id'] = df['user_id'].astype(str)\n",
    "    if 'destination_id' in df.columns:\n",
    "        df['destination_id'] = df['destination_id'].astype(str)\n",
    "\n",
    "# Merge step-by-step\n",
    "reviews_dest = pd.merge(reviews_df, destinations_df, on='destination_id', how='inner')\n",
    "merged_temp = pd.merge(reviews_dest, userhistory_df, on='user_id', how='inner')\n",
    "df = pd.merge(merged_temp, users_df, on='user_id', how='inner')\n",
    "\n",
    "print(\"Merged DataFrame shape:\", df.shape)\n",
    "df.head()\n"
   ]
  },
  {
   "cell_type": "code",
   "execution_count": null,
   "id": "7177c3d2-43d5-44f7-858a-d2af86b22ff3",
   "metadata": {},
   "outputs": [],
   "source": [
    "Data Preprocessing"
   ]
  },
  {
   "cell_type": "code",
   "execution_count": 67,
   "id": "a6e30db6-792c-4ce2-af8c-d56ca06be84c",
   "metadata": {},
   "outputs": [
    {
     "data": {
      "text/plain": [
       "(104, 20)"
      ]
     },
     "execution_count": 67,
     "metadata": {},
     "output_type": "execute_result"
    }
   ],
   "source": [
    "df.drop_duplicates(inplace=True)\n",
    "df.shape"
   ]
  },
  {
   "cell_type": "code",
   "execution_count": 69,
   "id": "09743bf4-8513-4780-a1a9-79e3183fe606",
   "metadata": {},
   "outputs": [],
   "source": [
    "df.to_csv(\"final_df.csv\",index=False)"
   ]
  },
  {
   "cell_type": "code",
   "execution_count": null,
   "id": "7d2b7415-58dc-4527-925a-9ce6a9fdb5af",
   "metadata": {},
   "outputs": [],
   "source": [
    "Data Visualization"
   ]
  },
  {
   "cell_type": "code",
   "execution_count": 71,
   "id": "cc79e16c-c7c2-415e-9b74-4aaaa35e9539",
   "metadata": {},
   "outputs": [
    {
     "name": "stderr",
     "output_type": "stream",
     "text": [
      "/var/folders/3s/_lykbhcn7s576dy29mq1lcbc0000gn/T/ipykernel_67674/2227755271.py:7: FutureWarning: \n",
      "\n",
      "Passing `palette` without assigning `hue` is deprecated and will be removed in v0.14.0. Assign the `y` variable to `hue` and set `legend=False` for the same effect.\n",
      "\n",
      "  sns.barplot(x='avg_rating', y='name', data=top_dest, palette='viridis')\n"
     ]
    },
    {
     "data": {
      "image/png": "[encoded data removed]",
      "text/plain": [
       "<Figure size 1000x600 with 1 Axes>"
      ]
     },
     "metadata": {},
     "output_type": "display_data"
    }
   ],
   "source": [
    "import matplotlib.pyplot as plt\n",
    "import seaborn as sns\n",
    "\n",
    "# 1. 🔥 Destination Popularity by Average Rating\n",
    "plt.figure(figsize=(10, 6))\n",
    "top_dest = destinations_df.sort_values(by='avg_rating', ascending=False).head(10)\n",
    "sns.barplot(x='avg_rating', y='name', data=top_dest, palette='viridis')\n",
    "plt.title('Top 10 Highest Rated Destinations')\n",
    "plt.xlabel('Average Rating')\n",
    "plt.ylabel('Destination')\n",
    "plt.show()"
   ]
  },
  {
   "cell_type": "code",
   "execution_count": 25,
   "id": "260634a1-1b54-400a-ac2b-ead0845eb29c",
   "metadata": {},
   "outputs": [
    {
     "name": "stderr",
     "output_type": "stream",
     "text": [
      "/var/folders/3s/_lykbhcn7s576dy29mq1lcbc0000gn/T/ipykernel_67674/3846268021.py:3: FutureWarning: \n",
      "\n",
      "Passing `palette` without assigning `hue` is deprecated and will be removed in v0.14.0. Assign the `y` variable to `hue` and set `legend=False` for the same effect.\n",
      "\n",
      "  sns.countplot(y='category', data=destinations_df, order=destinations_df['category'].value_counts().index, palette='coolwarm')\n"
     ]
    },
    {
     "data": {
      "image/png": "[encoded data removed]",
      "text/plain": [
       "<Figure size 800x600 with 1 Axes>"
      ]
     },
     "metadata": {},
     "output_type": "display_data"
    }
   ],
   "source": [
    "# 2. 🏞 Destination Types (Category) Distribution\n",
    "plt.figure(figsize=(8, 6))\n",
    "sns.countplot(y='category', data=destinations_df, order=destinations_df['category'].value_counts().index, palette='coolwarm')\n",
    "plt.title('Distribution of Destination Categories')\n",
    "plt.xlabel('Count')\n",
    "plt.ylabel('Category')\n",
    "plt.show()"
   ]
  },
  {
   "cell_type": "code",
   "execution_count": 73,
   "id": "ecbdd2a5-75d0-4527-8cee-f4ef295b66a9",
   "metadata": {},
   "outputs": [
    {
     "name": "stderr",
     "output_type": "stream",
     "text": [
      "/var/folders/3s/_lykbhcn7s576dy29mq1lcbc0000gn/T/ipykernel_67674/2205055773.py:3: FutureWarning: \n",
      "\n",
      "Passing `palette` without assigning `hue` is deprecated and will be removed in v0.14.0. Assign the `y` variable to `hue` and set `legend=False` for the same effect.\n",
      "\n",
      "  sns.countplot(y='state', data=destinations_df, order=destinations_df['state'].value_counts().index, palette='mako')\n"
     ]
    },
    {
     "data": {
      "image/png": "[encoded data removed]",
      "text/plain": [
       "<Figure size 1000x600 with 1 Axes>"
      ]
     },
     "metadata": {},
     "output_type": "display_data"
    }
   ],
   "source": [
    "# 3. 📍 Destinations per State\n",
    "plt.figure(figsize=(10, 6))\n",
    "sns.countplot(y='state', data=destinations_df, order=destinations_df['state'].value_counts().index, palette='mako')\n",
    "plt.title('Number of Destinations by State')\n",
    "plt.xlabel('Count')\n",
    "plt.ylabel('State')\n",
    "plt.show()"
   ]
  },
  {
   "cell_type": "code",
   "execution_count": 75,
   "id": "4e577793-5512-4400-88e2-483c7f93886f",
   "metadata": {},
   "outputs": [
    {
     "data": {
      "image/png": "[encoded data removed]",
      "text/plain": [
       "<Figure size 800x600 with 1 Axes>"
      ]
     },
     "metadata": {},
     "output_type": "display_data"
    }
   ],
   "source": [
    "# 4. 🌟 Ratings Distribution from User Reviews\n",
    "plt.figure(figsize=(8, 6))\n",
    "sns.histplot(reviews_df['ratings'], bins=5, kde=True, color='skyblue')\n",
    "plt.title('Distribution of User Ratings')\n",
    "plt.xlabel('Rating')\n",
    "plt.ylabel('Frequency')\n",
    "plt.show()"
   ]
  },
  {
   "cell_type": "code",
   "execution_count": null,
   "id": "e8bab3a2-6b17-4abe-9646-cb10e8977f27",
   "metadata": {},
   "outputs": [],
   "source": [
    "Content-Based Recommendation Model"
   ]
  },
  {
   "cell_type": "code",
   "execution_count": 89,
   "id": "d928a533-20e4-42e6-8412-c68804497cef",
   "metadata": {},
   "outputs": [
    {
     "name": "stdout",
     "output_type": "stream",
     "text": [
      "Cosine Similarity Matrix Shape: (475, 475)\n"
     ]
    }
   ],
   "source": [
    "# Step 0: Work from the clean destination DataFrame\n",
    "destinations_df['features'] = (\n",
    "    destinations_df['category'].fillna('') + ' ' +\n",
    "    destinations_df['state'].fillna('')\n",
    ")\n",
    "\n",
    "# Step 1: Apply TF-IDF Vectorizer\n",
    "vectorizer = TfidfVectorizer(stop_words='english')\n",
    "destination_features = vectorizer.fit_transform(destinations_df['features'])\n",
    "\n",
    "# Step 2: Compute Cosine Similarity between unique destinations\n",
    "cosine_sim = cosine_similarity(destination_features, destination_features)\n",
    "\n",
    "# Step 3: Confirm dimensions\n",
    "print(\"Cosine Similarity Matrix Shape:\", cosine_sim.shape)"
   ]
  },
  {
   "cell_type": "code",
   "execution_count": 91,
   "id": "eef3adb5-8b33-4300-a58f-f0880d3139b4",
   "metadata": {},
   "outputs": [],
   "source": [
    "def recommend_destinations(user_id, userhistory_df, destination_lookup_df, cosine_sim):\n",
    "    \"\"\"\n",
    "    Recommend top 5 destinations based on content similarity.\n",
    "\n",
    "    Parameters:\n",
    "    - user_id: str, like 'U0010'\n",
    "    - userhistory_df: user_id + destination_id\n",
    "    - destination_lookup_df: the exact DataFrame used to build cosine_sim\n",
    "    - cosine_sim: cosine similarity matrix (N x N where N = len(destination_lookup_df))\n",
    "\n",
    "    Returns:\n",
    "    - pd.DataFrame of top 5 recommended destinations\n",
    "    \"\"\"\n",
    "    user_id = str(user_id)\n",
    "    visited_ids = userhistory_df[userhistory_df['user_id'] == user_id]['destination_id'].astype(str).tolist()\n",
    "    all_ids = destination_lookup_df['destination_id'].astype(str).tolist()\n",
    "\n",
    "    # Only use destinations that exist in the lookup used to build cosine matrix\n",
    "    visited_indices = [i for i, did in enumerate(all_ids) if did in visited_ids]\n",
    "\n",
    "    if not visited_indices:\n",
    "        print(f\"⚠️ User {user_id} has no matching visit history in the destination list.\")\n",
    "        return pd.DataFrame(columns=['destination_id', 'name', 'state', 'category', 'avg_rating'])\n",
    "\n",
    "    # Compute average similarity vector\n",
    "    sim_scores = cosine_sim[visited_indices].mean(axis=0)\n",
    "    ranked_indices = sim_scores.argsort()[::-1]\n",
    "\n",
    "    recommendations = []\n",
    "    for idx in ranked_indices:\n",
    "        did = all_ids[idx]\n",
    "        if did not in visited_ids:\n",
    "            dest_row = destination_lookup_df.iloc[idx][['destination_id', 'name', 'state', 'category', 'avg_rating']]\n",
    "            recommendations.append(dest_row)\n",
    "        if len(recommendations) == 5:\n",
    "            break\n",
    "\n",
    "    return pd.DataFrame(recommendations)"
   ]
  },
  {
   "cell_type": "code",
   "execution_count": 93,
   "id": "5e16ce28-3f83-4c3c-ab09-1ebe1af46111",
   "metadata": {},
   "outputs": [
    {
     "name": "stdout",
     "output_type": "stream",
     "text": [
      "    destination_id                  name       state category  avg_rating\n",
      "232            233         Pantai Pandak  Terengganu    beach         3.9\n",
      "216            217      Batu Buruk Beach  Terengganu    beach         4.2\n",
      "226            227  Pantai Bukit Keluang  Terengganu    beach         4.3\n",
      "211            212          Kapas Island  Terengganu    beach         4.4\n",
      "210            211    Perhentian Islands  Terengganu    beach         4.7\n"
     ]
    }
   ],
   "source": [
    "# destination_lookup_df must match what you used to build cosine_sim\n",
    "recommended = recommend_destinations('U0010', userhistory_df, destinations_df, cosine_sim)\n",
    "print(recommended)"
   ]
  },
  {
   "cell_type": "code",
   "execution_count": 95,
   "id": "282f508e-d732-4c82-98dc-5d31a8c2195d",
   "metadata": {},
   "outputs": [
    {
     "name": "stdout",
     "output_type": "stream",
     "text": [
      "    destination_id                 name  state category  avg_rating\n",
      "440            441         Lubuk Pedati  Kedah   nature         4.0\n",
      "448            449   Taman Burung Kulim  Kedah   nature         3.9\n",
      "447            448        Bukit Kodiang  Kedah   nature         3.8\n",
      "434            435       Darulaman Park  Kedah   nature         3.9\n",
      "446            447  Lata Bayu Waterfall  Kedah   nature         4.2\n"
     ]
    }
   ],
   "source": [
    "# destination_lookup_df must match what you used to build cosine_sim\n",
    "recommended = recommend_destinations('U0024', userhistory_df, destinations_df, cosine_sim)\n",
    "print(recommended)"
   ]
  },
  {
   "cell_type": "code",
   "execution_count": null,
   "id": "070e05f7-e32f-453f-8b86-1af998478643",
   "metadata": {},
   "outputs": [],
   "source": [
    "Collaborative Filtering"
   ]
  },
  {
   "cell_type": "code",
   "execution_count": 97,
   "id": "bd8aaaa7-f854-4356-919f-871dfebcede2",
   "metadata": {},
   "outputs": [
    {
     "name": "stdout",
     "output_type": "stream",
     "text": [
      "User similarity matrix shape: (58, 58)\n"
     ]
    }
   ],
   "source": [
    "# Step 1: Create user-item matrix (rows = users, columns = destinations)\n",
    "user_item_matrix = userhistory_df.pivot(\n",
    "    index='user_id', \n",
    "    columns='destination_id', \n",
    "    values='experience_ratings'\n",
    ")\n",
    "\n",
    "# Step 2: Fill missing values with 0 (unvisited/unrated destinations)\n",
    "user_item_matrix.fillna(0, inplace=True)\n",
    "\n",
    "# Step 3: Compute cosine similarity between users\n",
    "user_similarity = cosine_similarity(user_item_matrix)\n",
    "\n",
    "# Optional: Wrap as DataFrame for easy lookup\n",
    "user_similarity_df = pd.DataFrame(user_similarity, index=user_item_matrix.index, columns=user_item_matrix.index)\n",
    "\n",
    "# Confirm shape\n",
    "print(\"User similarity matrix shape:\", user_similarity_df.shape)"
   ]
  },
  {
   "cell_type": "code",
   "execution_count": 99,
   "id": "6a7397eb-66c9-45be-b2a2-79ab38358ab4",
   "metadata": {},
   "outputs": [],
   "source": [
    "def collaborative_recommend(user_id, user_similarity_df, user_item_matrix, destinations_df):\n",
    "    \"\"\"\n",
    "    Recommends destinations based on user-user collaborative filtering.\n",
    "\n",
    "    Args:\n",
    "    - user_id: ID of the user (string, e.g., 'U0010')\n",
    "    - user_similarity_df: DataFrame with cosine similarity between users\n",
    "    - user_item_matrix: pivoted user-destination matrix with ratings\n",
    "    - destinations_df: DataFrame with destination info\n",
    "\n",
    "    Returns:\n",
    "    - DataFrame of top 5 recommended destinations\n",
    "    \"\"\"\n",
    "    user_id = str(user_id)\n",
    "\n",
    "    if user_id not in user_similarity_df.index:\n",
    "        print(f\"❌ User ID '{user_id}' not found in similarity matrix.\")\n",
    "        return pd.DataFrame()\n",
    "\n",
    "    # Step 1: Get top 5 most similar users (excluding self)\n",
    "    similar_users = user_similarity_df[user_id].sort_values(ascending=False).drop(user_id).head(5)\n",
    "\n",
    "    # Step 2: Average the destination ratings from similar users\n",
    "    similar_user_ratings = user_item_matrix.loc[similar_users.index].mean(axis=0)\n",
    "\n",
    "    # Step 3: Filter out destinations the user has already rated\n",
    "    user_rated = user_item_matrix.loc[user_id]\n",
    "    unrated = user_rated[user_rated == 0]\n",
    "\n",
    "    # Step 4: Recommend top destinations among unrated ones\n",
    "    recommendations = similar_user_ratings[unrated.index].sort_values(ascending=False).head(5).index\n",
    "\n",
    "    # Step 5: Match destination details\n",
    "    recommended_df = destinations_df[\n",
    "        destinations_df['destination_id'].astype(str).isin(recommendations.astype(str))\n",
    "    ][['destination_id', 'name', 'state', 'category', 'avg_rating']]\n",
    "\n",
    "    return recommended_df"
   ]
  },
  {
   "cell_type": "code",
   "execution_count": 101,
   "id": "ff284a02-d528-45ec-b34e-e71f18837357",
   "metadata": {},
   "outputs": [
    {
     "name": "stdout",
     "output_type": "stream",
     "text": [
      "    destination_id                         name            state category  \\\n",
      "90              91  Dhammikarama Burmese Temple           Penang     city   \n",
      "199            200     Teluk Kemang Observatory  Negeri Sembilan     city   \n",
      "242            243    Kampung Budaya Terengganu       Terengganu     city   \n",
      "320            321               Pangkor Island            Perak    beach   \n",
      "444            445               Pulau Songsong            Kedah    beach   \n",
      "\n",
      "     avg_rating  \n",
      "90          4.2  \n",
      "199         3.9  \n",
      "242         3.9  \n",
      "320         4.5  \n",
      "444         4.0  \n"
     ]
    }
   ],
   "source": [
    "collaborative_recommendations = collaborative_recommend('U0010', user_similarity_df, user_item_matrix, destinations_df)\n",
    "print(collaborative_recommendations)"
   ]
  },
  {
   "cell_type": "code",
   "execution_count": 103,
   "id": "621dab41-1916-425d-a22e-c3af3a5b524e",
   "metadata": {},
   "outputs": [
    {
     "name": "stdout",
     "output_type": "stream",
     "text": [
      "    destination_id                          name            state    category  \\\n",
      "135            136          Adventure Theme Park            Johor      nature   \n",
      "179            180  Negeri Sembilan State Museum  Negeri Sembilan  historical   \n",
      "242            243     Kampung Budaya Terengganu       Terengganu        city   \n",
      "423            424                Pantai Merdeka            Kedah       beach   \n",
      "444            445                Pulau Songsong            Kedah       beach   \n",
      "\n",
      "     avg_rating  \n",
      "135         3.8  \n",
      "179         3.9  \n",
      "242         3.9  \n",
      "423         3.9  \n",
      "444         4.0  \n"
     ]
    }
   ],
   "source": [
    "collaborative_recommendations = collaborative_recommend('U0056', user_similarity_df, user_item_matrix, destinations_df)\n",
    "print(collaborative_recommendations)"
   ]
  },
  {
   "cell_type": "code",
   "execution_count": null,
   "id": "22c61def-c2f0-48fd-8d5e-18f30721d609",
   "metadata": {},
   "outputs": [],
   "source": [
    "User input feature base recommendation"
   ]
  },
  {
   "cell_type": "code",
   "execution_count": 121,
   "id": "04f64886-eb92-440c-a5a0-da75e9200950",
   "metadata": {},
   "outputs": [
    {
     "name": "stdout",
     "output_type": "stream",
     "text": [
      "Mean Squared Error: 0.03\n",
      "R² Score: 0.78\n"
     ]
    }
   ],
   "source": [
    "import pandas as pd\n",
    "from sklearn.model_selection import train_test_split\n",
    "from sklearn.ensemble import RandomForestRegressor\n",
    "from sklearn.preprocessing import LabelEncoder\n",
    "from sklearn.metrics import mean_squared_error, r2_score\n",
    "\n",
    "# Load and preprocess the data\n",
    "data = pd.read_csv('final_df.csv')\n",
    "\n",
    "# Rename column for consistency\n",
    "df.rename(columns={'name_x': 'name'}, inplace=True)\n",
    "\n",
    "# Select features and target\n",
    "features = ['name', 'state', 'category', 'category_preferences', 'number_of_pax']\n",
    "target = 'avg_rating'\n",
    "\n",
    "# Encode categorical features\n",
    "label_encoders = {}\n",
    "for col in features:\n",
    "    if df[col].dtype == 'object':\n",
    "        le = LabelEncoder()\n",
    "        df[col] = le.fit_transform(df[col].astype(str))\n",
    "        label_encoders[col] = le\n",
    "\n",
    "# Prepare data\n",
    "X = df[features]\n",
    "y = df[target]\n",
    "\n",
    "# Train-test split\n",
    "X_train, X_test, y_train, y_test = train_test_split(X, y, test_size=0.2, random_state=42)\n",
    "\n",
    "# Train model\n",
    "model = RandomForestRegressor(random_state=42)\n",
    "model.fit(X_train, y_train)\n",
    "\n",
    "# Evaluate model\n",
    "y_pred = model.predict(X_test)\n",
    "print(f\"Mean Squared Error: {mean_squared_error(y_test, y_pred):.2f}\")\n",
    "print(f\"R² Score: {r2_score(y_test, y_pred):.2f}\")"
   ]
  },
  {
   "cell_type": "code",
   "execution_count": 143,
   "id": "acb0cd40-df9a-4b75-ad66-b3dc681e444a",
   "metadata": {},
   "outputs": [],
   "source": [
    "import pickle\n",
    "\n",
    "pickle.dump(model, open(\"model.pkl\",'wb'))\n",
    "pickle.dump(label_encoders, open(\"label_encoders.pkl\",'wb'))"
   ]
  },
  {
   "cell_type": "code",
   "execution_count": null,
   "id": "6f0f3070-a14f-4ccf-b5ab-38457ac810e6",
   "metadata": {},
   "outputs": [],
   "source": []
  }
 ],
 "metadata": {
  "kernelspec": {
   "display_name": "Python [conda env:base] *",
   "language": "python",
   "name": "conda-base-py"
  },
  "language_info": {
   "codemirror_mode": {
    "name": "ipython",
    "version": 3
   },
   "file_extension": ".py",
   "mimetype": "text/x-python",
   "name": "python",
   "nbconvert_exporter": "python",
   "pygments_lexer": "ipython3",
   "version": "3.12.2"
  }
 },
 "nbformat": 4,
 "nbformat_minor": 5
}
